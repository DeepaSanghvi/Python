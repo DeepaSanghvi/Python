{
 "cells": [
  {
   "cell_type": "code",
   "execution_count": 1,
   "id": "c972f02a",
   "metadata": {},
   "outputs": [
    {
     "data": {
      "text/plain": [
       "{'a': 15, 'b': 25, 'c': 35}"
      ]
     },
     "execution_count": 1,
     "metadata": {},
     "output_type": "execute_result"
    }
   ],
   "source": [
    "d1={'a':15,'b':25,'c':35}\n",
    "d1"
   ]
  },
  {
   "cell_type": "code",
   "execution_count": 2,
   "id": "aa98c104",
   "metadata": {},
   "outputs": [],
   "source": [
    "d2=dict({'d':-15,'e':-25,'f':-35})"
   ]
  },
  {
   "cell_type": "code",
   "execution_count": 3,
   "id": "0d62d46a",
   "metadata": {},
   "outputs": [
    {
     "data": {
      "text/plain": [
       "{'d': -15, 'e': -25, 'f': -35}"
      ]
     },
     "execution_count": 3,
     "metadata": {},
     "output_type": "execute_result"
    }
   ],
   "source": [
    "d2"
   ]
  },
  {
   "cell_type": "code",
   "execution_count": null,
   "id": "d9ec9dc8",
   "metadata": {},
   "outputs": [],
   "source": []
  }
 ],
 "metadata": {
  "kernelspec": {
   "display_name": "Python 3 (ipykernel)",
   "language": "python",
   "name": "python3"
  },
  "language_info": {
   "codemirror_mode": {
    "name": "ipython",
    "version": 3
   },
   "file_extension": ".py",
   "mimetype": "text/x-python",
   "name": "python",
   "nbconvert_exporter": "python",
   "pygments_lexer": "ipython3",
   "version": "3.10.9"
  }
 },
 "nbformat": 4,
 "nbformat_minor": 5
}
