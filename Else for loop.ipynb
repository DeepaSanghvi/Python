{
 "cells": [
  {
   "cell_type": "code",
   "execution_count": 41,
   "id": "a96964a3",
   "metadata": {},
   "outputs": [
    {
     "name": "stdout",
     "output_type": "stream",
     "text": [
      "This is final o/p: This is ELSE statement\n"
     ]
    }
   ],
   "source": [
    "message='This is ELSE statement'\n",
    "a=''\n",
    "for i in message:\n",
    "    a= a+i\n",
    "    if i=='d' or i=='D':\n",
    "        break\n",
    "else:   \n",
    "    print('This is final o/p:',a)"
   ]
  },
  {
   "cell_type": "code",
   "execution_count": 42,
   "id": "75a1b116",
   "metadata": {},
   "outputs": [
    {
     "name": "stdout",
     "output_type": "stream",
     "text": [
      "3\n"
     ]
    }
   ],
   "source": [
    "print(133%10)"
   ]
  },
  {
   "cell_type": "code",
   "execution_count": null,
   "id": "2e1471e9",
   "metadata": {},
   "outputs": [],
   "source": []
  }
 ],
 "metadata": {
  "kernelspec": {
   "display_name": "Python 3 (ipykernel)",
   "language": "python",
   "name": "python3"
  },
  "language_info": {
   "codemirror_mode": {
    "name": "ipython",
    "version": 3
   },
   "file_extension": ".py",
   "mimetype": "text/x-python",
   "name": "python",
   "nbconvert_exporter": "python",
   "pygments_lexer": "ipython3",
   "version": "3.10.9"
  }
 },
 "nbformat": 4,
 "nbformat_minor": 5
}
