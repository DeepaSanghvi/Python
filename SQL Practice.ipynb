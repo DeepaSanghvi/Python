{
 "cells": [
  {
   "cell_type": "code",
   "execution_count": 1,
   "id": "e22ea70b",
   "metadata": {},
   "outputs": [],
   "source": [
    "import mysql.connector"
   ]
  },
  {
   "cell_type": "code",
   "execution_count": 2,
   "id": "dcdf332a",
   "metadata": {},
   "outputs": [
    {
     "name": "stdout",
     "output_type": "stream",
     "text": [
      "<mysql.connector.connection_cext.CMySQLConnection object at 0x0000013DCB20B910>\n"
     ]
    }
   ],
   "source": [
    "mydb = mysql.connector.connect(\n",
    "  host=\"localhost\",\n",
    "  user=\"root\",\n",
    "  password=\"fresh\", \n",
    "  database='studentdb' #connecting to database studentdb\n",
    ")\n",
    "\n",
    "print(mydb)"
   ]
  },
  {
   "cell_type": "code",
   "execution_count": 3,
   "id": "5eb41efc",
   "metadata": {},
   "outputs": [],
   "source": [
    "mycursor = mydb.cursor()\n",
    "#mycursor.execute(\"CREATE DATABASE StudentDB\") #creating database"
   ]
  },
  {
   "cell_type": "code",
   "execution_count": 4,
   "id": "5ca97179",
   "metadata": {
    "scrolled": true
   },
   "outputs": [
    {
     "name": "stdout",
     "output_type": "stream",
     "text": [
      "('information_schema',)\n",
      "('mydatabase',)\n",
      "('mysql',)\n",
      "('performance_schema',)\n",
      "('sakila',)\n",
      "('studentdb',)\n",
      "('sys',)\n",
      "('world',)\n"
     ]
    }
   ],
   "source": [
    "#check if a database exist by listing all databases\n",
    "mycursor.execute(\"SHOW DATABASES\")\n",
    "\n",
    "for x in mycursor:\n",
    "  print(x)"
   ]
  },
  {
   "cell_type": "code",
   "execution_count": 11,
   "id": "78d05071",
   "metadata": {},
   "outputs": [],
   "source": [
    "#creating table\n",
    "#mycursor.execute(\"CREATE TABLE StudentInfo (id INT AUTO_INCREMENT PRIMARY KEY,SId int,sname VARCHAR(255), address VARCHAR(255))\")\n",
    "#mycursor.execute(\"DROP TABLE StudentInfo\")\n",
    "#mycursor.execute(\"CREATE TABLE StudentMarks (id INT AUTO_INCREMENT PRIMARY KEY,SId int,Maths int, English int, VR int,NVR int)\")"
   ]
  },
  {
   "cell_type": "code",
   "execution_count": 12,
   "id": "7241f386",
   "metadata": {},
   "outputs": [
    {
     "name": "stdout",
     "output_type": "stream",
     "text": [
      "('studentinfo',)\n",
      "('studentmarks',)\n"
     ]
    }
   ],
   "source": [
    "#show all the tables from database\n",
    "#mycursor = mydb.cursor()\n",
    "mycursor.execute(\"SHOW TABLES\")\n",
    "for x in mycursor:\n",
    "  print(x)"
   ]
  },
  {
   "cell_type": "code",
   "execution_count": 5,
   "id": "70f2212f",
   "metadata": {},
   "outputs": [
    {
     "name": "stdout",
     "output_type": "stream",
     "text": [
      "Enter Student ID:159\n",
      "Enter Student Name:P\n",
      "Enter Address:L\n",
      "5\n",
      "(1, 1872, 'r', 'dfd')\n",
      "(2, 147, 'v', 'v')\n",
      "(3, 7899, 'kk', 'uiyi#')\n",
      "(4, 456, 'dwd', 'wqqw')\n",
      "(5, 159, 'P', 'L')\n"
     ]
    }
   ],
   "source": [
    "#insert into tables\n",
    "sid=int(input('Enter Student ID:'))\n",
    "sname=input('Enter Student Name:')\n",
    "address=input('Enter Address:')\n",
    "\n",
    "\n",
    "sql=\"INSERT INTO StudentInfo (SId,sname,address) VALUES (%s, %s, %s)\"\n",
    "val=(sid,sname,address)\n",
    "#val = (1,\"John\", \"Highway 21\")\n",
    "mycursor.execute(sql, val)\n",
    "mydb.commit()\n",
    "\n",
    "print(mycursor.lastrowid)\n",
    "##select data from table\n",
    "mycursor.execute(\"SELECT * FROM StudentInfo\")\n",
    "\n",
    "myresult = mycursor.fetchall()\n",
    "\n",
    "for x in myresult:\n",
    "  print(x)"
   ]
  },
  {
   "cell_type": "code",
   "execution_count": 6,
   "id": "b96cd15b",
   "metadata": {},
   "outputs": [
    {
     "name": "stdout",
     "output_type": "stream",
     "text": [
      "(1, 1872, 'r', 'dfd')\n",
      "(2, 147, 'v', 'v')\n"
     ]
    }
   ],
   "source": [
    "#Select the 2 first records\n",
    "mycursor.execute(\"SELECT * FROM StudentInfo LIMIT 2\")\n",
    "\n",
    "myresult = mycursor.fetchall()\n",
    "\n",
    "for x in myresult:\n",
    "  print(x)"
   ]
  },
  {
   "cell_type": "code",
   "execution_count": 13,
   "id": "5fbbac8b",
   "metadata": {},
   "outputs": [
    {
     "name": "stdout",
     "output_type": "stream",
     "text": [
      "(1, 1872, 'r', 'dfd')\n",
      "(2, 147, 'v', 'v')\n",
      "(3, 7899, 'kk', 'uiyi#')\n",
      "(4, 456, 'dwd', 'wqqw')\n",
      "(5, 159, 'P', 'L')\n"
     ]
    }
   ],
   "source": [
    "#if you want to return 3 records, starting from the 2 record, you can use the \"OFFSET\" keyword:\n",
    "mycursor.execute(\"SELECT * FROM StudentInfo LIMIT 5 OFFSET 2\")\n",
    "#mycursor.execute(\"SELECT * FROM StudentInfo\")\n",
    "myresult = mycursor.fetchall()\n",
    "\n",
    "for x in myresult:\n",
    "  print(x)"
   ]
  },
  {
   "cell_type": "code",
   "execution_count": 19,
   "id": "54238417",
   "metadata": {},
   "outputs": [
    {
     "name": "stdout",
     "output_type": "stream",
     "text": [
      "Enter Student ID:456\n",
      "Enter Maths Marks:50\n",
      "Enter English Marks:32\n",
      "Enter VR Marks:47\n",
      "Enter NVR Marks:32\n"
     ]
    }
   ],
   "source": [
    "#insert into tables\n",
    "sid=int(input('Enter Student ID:'))\n",
    "Maths=input('Enter Maths Marks:')\n",
    "English=input('Enter English Marks:')\n",
    "Vr=input('Enter VR Marks:')\n",
    "NVR=input('Enter NVR Marks:')\n",
    "\n",
    "sql=\"INSERT INTO StudentMarks (SId,Maths,English,VR,NVR) VALUES (%s, %s, %s, %s ,%s)\"\n",
    "val=(sid,Maths,English,Vr,NVR)\n",
    "#val = (1,\"John\", \"Highway 21\")\n",
    "mycursor.execute(sql, val)\n",
    "mydb.commit()\n"
   ]
  },
  {
   "cell_type": "code",
   "execution_count": 20,
   "id": "99859cfa",
   "metadata": {},
   "outputs": [
    {
     "name": "stdout",
     "output_type": "stream",
     "text": [
      "(1, 1872, 45, 35, 38, 22)\n",
      "(2, 7899, 36, 48, 44, 50)\n",
      "(3, 456, 50, 32, 47, 32)\n"
     ]
    }
   ],
   "source": [
    "mycursor.execute(\"SELECT * FROM StudentMarks\")\n",
    "#mycursor.execute(\"SELECT * FROM StudentInfo\")\n",
    "myresult = mycursor.fetchall()\n",
    "\n",
    "for x in myresult:\n",
    "  print(x)"
   ]
  },
  {
   "cell_type": "code",
   "execution_count": null,
   "id": "521d1e6b",
   "metadata": {},
   "outputs": [],
   "source": []
  }
 ],
 "metadata": {
  "kernelspec": {
   "display_name": "Python 3 (ipykernel)",
   "language": "python",
   "name": "python3"
  },
  "language_info": {
   "codemirror_mode": {
    "name": "ipython",
    "version": 3
   },
   "file_extension": ".py",
   "mimetype": "text/x-python",
   "name": "python",
   "nbconvert_exporter": "python",
   "pygments_lexer": "ipython3",
   "version": "3.10.9"
  }
 },
 "nbformat": 4,
 "nbformat_minor": 5
}
