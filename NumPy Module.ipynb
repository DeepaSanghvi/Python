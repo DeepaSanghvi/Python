{
 "cells": [
  {
   "cell_type": "code",
   "execution_count": 1,
   "id": "53ae9088",
   "metadata": {},
   "outputs": [],
   "source": [
    "import numpy as np"
   ]
  },
  {
   "cell_type": "code",
   "execution_count": 2,
   "id": "15ba8720",
   "metadata": {},
   "outputs": [],
   "source": [
    "new_array1=np.ones(4)"
   ]
  },
  {
   "cell_type": "code",
   "execution_count": 4,
   "id": "52930870",
   "metadata": {},
   "outputs": [
    {
     "data": {
      "text/plain": [
       "array([1., 1., 1., 1.])"
      ]
     },
     "execution_count": 4,
     "metadata": {},
     "output_type": "execute_result"
    }
   ],
   "source": [
    "new_array1"
   ]
  },
  {
   "cell_type": "code",
   "execution_count": 9,
   "id": "84f91bcf",
   "metadata": {},
   "outputs": [
    {
     "data": {
      "text/plain": [
       "8"
      ]
     },
     "execution_count": 9,
     "metadata": {},
     "output_type": "execute_result"
    }
   ],
   "source": [
    "new_array2=np.array([5,6,7,8])\n",
    "new_array3=np.array([1,2,3,4])\n",
    "new_array2[-1]"
   ]
  },
  {
   "cell_type": "code",
   "execution_count": 10,
   "id": "18b61356",
   "metadata": {},
   "outputs": [
    {
     "data": {
      "text/plain": [
       "array([ 6,  8, 10, 12])"
      ]
     },
     "execution_count": 10,
     "metadata": {},
     "output_type": "execute_result"
    }
   ],
   "source": [
    "new_array3 + new_array2"
   ]
  },
  {
   "cell_type": "code",
   "execution_count": 12,
   "id": "e00060ba",
   "metadata": {},
   "outputs": [
    {
     "data": {
      "text/plain": [
       "10"
      ]
     },
     "execution_count": 12,
     "metadata": {},
     "output_type": "execute_result"
    }
   ],
   "source": [
    "new_array3.sum()"
   ]
  },
  {
   "cell_type": "code",
   "execution_count": 13,
   "id": "0d9fbeb1",
   "metadata": {},
   "outputs": [
    {
     "data": {
      "text/plain": [
       "2.5"
      ]
     },
     "execution_count": 13,
     "metadata": {},
     "output_type": "execute_result"
    }
   ],
   "source": [
    "new_array3.mean()"
   ]
  },
  {
   "cell_type": "code",
   "execution_count": 17,
   "id": "e18b7c6b",
   "metadata": {},
   "outputs": [],
   "source": [
    "# multi dimentional array\n",
    "x=np.array([[10,20,30],[40,50,60]])\n",
    "y=np.ones((3,4))"
   ]
  },
  {
   "cell_type": "code",
   "execution_count": 18,
   "id": "d8282a34",
   "metadata": {},
   "outputs": [
    {
     "data": {
      "text/plain": [
       "array([[10, 20, 30],\n",
       "       [40, 50, 60]])"
      ]
     },
     "execution_count": 18,
     "metadata": {},
     "output_type": "execute_result"
    }
   ],
   "source": [
    "x"
   ]
  },
  {
   "cell_type": "code",
   "execution_count": 19,
   "id": "58d40d84",
   "metadata": {},
   "outputs": [
    {
     "data": {
      "text/plain": [
       "210"
      ]
     },
     "execution_count": 19,
     "metadata": {},
     "output_type": "execute_result"
    }
   ],
   "source": [
    "x.sum()"
   ]
  },
  {
   "cell_type": "code",
   "execution_count": 20,
   "id": "a81aab46",
   "metadata": {},
   "outputs": [
    {
     "data": {
      "text/plain": [
       "array([[1., 1., 1., 1.],\n",
       "       [1., 1., 1., 1.],\n",
       "       [1., 1., 1., 1.]])"
      ]
     },
     "execution_count": 20,
     "metadata": {},
     "output_type": "execute_result"
    }
   ],
   "source": [
    "y"
   ]
  },
  {
   "cell_type": "code",
   "execution_count": 36,
   "id": "ab9edcf1",
   "metadata": {},
   "outputs": [],
   "source": [
    "z=np.random.random((3,3,2))"
   ]
  },
  {
   "cell_type": "code",
   "execution_count": 37,
   "id": "aa8e158c",
   "metadata": {},
   "outputs": [
    {
     "data": {
      "text/plain": [
       "array([[[0.83465769, 0.18950199],\n",
       "        [0.40273173, 0.64083007],\n",
       "        [0.00387047, 0.13507211]],\n",
       "\n",
       "       [[0.09602463, 0.43511878],\n",
       "        [0.7357014 , 0.99688175],\n",
       "        [0.40794178, 0.76960904]],\n",
       "\n",
       "       [[0.52549832, 0.2271827 ],\n",
       "        [0.34580506, 0.59230337],\n",
       "        [0.82413644, 0.62365773]]])"
      ]
     },
     "execution_count": 37,
     "metadata": {},
     "output_type": "execute_result"
    }
   ],
   "source": [
    "z"
   ]
  },
  {
   "cell_type": "code",
   "execution_count": 26,
   "id": "074ec246",
   "metadata": {},
   "outputs": [],
   "source": [
    "a1=np.array([[5,6],[7,8]])"
   ]
  },
  {
   "cell_type": "code",
   "execution_count": 27,
   "id": "2876cd08",
   "metadata": {},
   "outputs": [],
   "source": [
    "a2=np.array([[2,3],[4,5]])"
   ]
  },
  {
   "cell_type": "code",
   "execution_count": 28,
   "id": "0002fb39",
   "metadata": {},
   "outputs": [
    {
     "data": {
      "text/plain": [
       "array([[ 7,  9],\n",
       "       [11, 13]])"
      ]
     },
     "execution_count": 28,
     "metadata": {},
     "output_type": "execute_result"
    }
   ],
   "source": [
    "a1+a2"
   ]
  },
  {
   "cell_type": "code",
   "execution_count": 29,
   "id": "31aa3171",
   "metadata": {},
   "outputs": [
    {
     "data": {
      "text/plain": [
       "array([[34, 45],\n",
       "       [46, 61]])"
      ]
     },
     "execution_count": 29,
     "metadata": {},
     "output_type": "execute_result"
    }
   ],
   "source": [
    "a1.dot(a2)"
   ]
  },
  {
   "cell_type": "code",
   "execution_count": 33,
   "id": "16ed66b2",
   "metadata": {},
   "outputs": [
    {
     "data": {
      "text/plain": [
       "array([[[3.02642564, 4.16767908],\n",
       "        [2.67250118, 3.60640359],\n",
       "        [3.13000463, 4.32063661]],\n",
       "\n",
       "       [[2.46568167, 3.32357163],\n",
       "        [3.3611571 , 4.70080511],\n",
       "        [4.23168197, 5.51315433]],\n",
       "\n",
       "       [[3.52436082, 4.54781897],\n",
       "        [1.18327871, 1.63441411],\n",
       "        [3.7712703 , 5.04144573]]])"
      ]
     },
     "execution_count": 33,
     "metadata": {},
     "output_type": "execute_result"
    }
   ],
   "source": [
    "z.dot(a2)"
   ]
  },
  {
   "cell_type": "code",
   "execution_count": 38,
   "id": "07796873",
   "metadata": {},
   "outputs": [
    {
     "data": {
      "text/plain": [
       "8"
      ]
     },
     "execution_count": 38,
     "metadata": {},
     "output_type": "execute_result"
    }
   ],
   "source": [
    "a1.max()"
   ]
  },
  {
   "cell_type": "code",
   "execution_count": 43,
   "id": "1c1e3faa",
   "metadata": {},
   "outputs": [
    {
     "data": {
      "text/plain": [
       "array([[0.40273173, 0.64083007],\n",
       "       [0.7357014 , 0.99688175],\n",
       "       [0.34580506, 0.59230337]])"
      ]
     },
     "execution_count": 43,
     "metadata": {},
     "output_type": "execute_result"
    }
   ],
   "source": [
    "z[0:3,1]"
   ]
  },
  {
   "cell_type": "code",
   "execution_count": 6,
   "id": "5e247132",
   "metadata": {},
   "outputs": [],
   "source": [
    "num1=np.arange(15)"
   ]
  },
  {
   "cell_type": "code",
   "execution_count": 7,
   "id": "58408dc7",
   "metadata": {},
   "outputs": [
    {
     "data": {
      "text/plain": [
       "array([ 0,  1,  2,  3,  4,  5,  6,  7,  8,  9, 10, 11, 12, 13, 14])"
      ]
     },
     "execution_count": 7,
     "metadata": {},
     "output_type": "execute_result"
    }
   ],
   "source": [
    "num1"
   ]
  },
  {
   "cell_type": "code",
   "execution_count": null,
   "id": "d1b0587c",
   "metadata": {},
   "outputs": [],
   "source": []
  }
 ],
 "metadata": {
  "kernelspec": {
   "display_name": "Python 3 (ipykernel)",
   "language": "python",
   "name": "python3"
  },
  "language_info": {
   "codemirror_mode": {
    "name": "ipython",
    "version": 3
   },
   "file_extension": ".py",
   "mimetype": "text/x-python",
   "name": "python",
   "nbconvert_exporter": "python",
   "pygments_lexer": "ipython3",
   "version": "3.10.9"
  }
 },
 "nbformat": 4,
 "nbformat_minor": 5
}
