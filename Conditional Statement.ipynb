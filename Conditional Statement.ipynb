{
 "cells": [
  {
   "cell_type": "code",
   "execution_count": 2,
   "id": "7d595804",
   "metadata": {},
   "outputs": [
    {
     "name": "stdout",
     "output_type": "stream",
     "text": [
      "Try Again\n",
      "Good Luck\n"
     ]
    }
   ],
   "source": [
    "x=20\n",
    "if x >= 30 :\n",
    "    print('Success')\n",
    "if x < 30 :\n",
    "    print('Try Again')\n",
    "print('Good Luck')"
   ]
  },
  {
   "cell_type": "markdown",
   "id": "f2a425f7",
   "metadata": {},
   "source": [
    "y=30"
   ]
  },
  {
   "cell_type": "code",
   "execution_count": 8,
   "id": "8f866167",
   "metadata": {},
   "outputs": [
    {
     "name": "stdout",
     "output_type": "stream",
     "text": [
      "Good\n"
     ]
    }
   ],
   "source": [
    "y=30\n",
    "if y >=50:\n",
    "    print('Very Good')\n",
    "elif (y>=30 and y <50):\n",
    "    print('Good')\n",
    "else:\n",
    "    print('Better Luck Next Time')"
   ]
  },
  {
   "cell_type": "code",
   "execution_count": 9,
   "id": "0ce68b92",
   "metadata": {},
   "outputs": [
    {
     "name": "stdout",
     "output_type": "stream",
     "text": [
      "i\n",
      "love\n",
      "you\n"
     ]
    }
   ],
   "source": [
    "a=['i','love','you']\n",
    "for i in range(len(a)):\n",
    "    print(a[i])"
   ]
  },
  {
   "cell_type": "code",
   "execution_count": null,
   "id": "ef0f0ab0",
   "metadata": {},
   "outputs": [],
   "source": []
  }
 ],
 "metadata": {
  "kernelspec": {
   "display_name": "Python 3 (ipykernel)",
   "language": "python",
   "name": "python3"
  },
  "language_info": {
   "codemirror_mode": {
    "name": "ipython",
    "version": 3
   },
   "file_extension": ".py",
   "mimetype": "text/x-python",
   "name": "python",
   "nbconvert_exporter": "python",
   "pygments_lexer": "ipython3",
   "version": "3.10.9"
  }
 },
 "nbformat": 4,
 "nbformat_minor": 5
}
