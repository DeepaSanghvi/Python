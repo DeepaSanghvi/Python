{
 "cells": [
  {
   "cell_type": "code",
   "execution_count": 21,
   "id": "135632a1",
   "metadata": {},
   "outputs": [
    {
     "name": "stdout",
     "output_type": "stream",
     "text": [
      "Enter studentname:Duke\n",
      "Enter school year:8\n",
      "Enter Percentage:56.2356\n",
      "Enter Subject:Arts\n",
      "Duke is in year 8 and in Arts he got 56.24%.\n"
     ]
    }
   ],
   "source": [
    "sname=input('Enter studentname:')\n",
    "syear=int(input('Enter school year:'))\n",
    "percentage=float(input('Enter Percentage:'))\n",
    "subject=input('Enter Subject:')\n",
    "sent='%s is in year %d and in %s he got %.2f%%.'\n",
    "print(sent %(sname,syear,subject,percentage))"
   ]
  },
  {
   "cell_type": "code",
   "execution_count": 18,
   "id": "7ef0b5fe",
   "metadata": {},
   "outputs": [
    {
     "name": "stdout",
     "output_type": "stream",
     "text": [
      "Deepa is in year 12 and in Dance she got 70%.\n"
     ]
    }
   ],
   "source": [
    "#use of string.format method\n",
    "#sname=input('Enter studentname:')\n",
    "#syear=int(input('Enter school year:'))\n",
    "#percentage=float(input('Enter Percentage:'))\n",
    "#subject=input('Enter Subject:')\n",
    "sent=\"{} is in year {} and in {} she got {}%.\"\n",
    "print(sent.format('Deepa','12','Dance','70'))"
   ]
  },
  {
   "cell_type": "code",
   "execution_count": 28,
   "id": "f231afc3",
   "metadata": {},
   "outputs": [
    {
     "data": {
      "text/plain": [
       "\"DUKE's marks in Arts is 56.2356\""
      ]
     },
     "execution_count": 28,
     "metadata": {},
     "output_type": "execute_result"
    }
   ],
   "source": [
    "#string format using f-string method\n",
    "f\"{sname.upper()}'s marks in {subject} is {percentage}\""
   ]
  },
  {
   "cell_type": "code",
   "execution_count": 31,
   "id": "e7c9a987",
   "metadata": {},
   "outputs": [
    {
     "data": {
      "text/plain": [
       "'The atomic number of the element Hydrogen is 1'"
      ]
     },
     "execution_count": 31,
     "metadata": {},
     "output_type": "execute_result"
    }
   ],
   "source": [
    "val2=1\n",
    "val1='hydrogen'\n",
    "f\"The atomic number of the element {val1.capitalize()} is {val2}\""
   ]
  },
  {
   "cell_type": "code",
   "execution_count": null,
   "id": "b0e78a9d",
   "metadata": {},
   "outputs": [],
   "source": []
  }
 ],
 "metadata": {
  "kernelspec": {
   "display_name": "Python 3 (ipykernel)",
   "language": "python",
   "name": "python3"
  },
  "language_info": {
   "codemirror_mode": {
    "name": "ipython",
    "version": 3
   },
   "file_extension": ".py",
   "mimetype": "text/x-python",
   "name": "python",
   "nbconvert_exporter": "python",
   "pygments_lexer": "ipython3",
   "version": "3.10.9"
  }
 },
 "nbformat": 4,
 "nbformat_minor": 5
}
